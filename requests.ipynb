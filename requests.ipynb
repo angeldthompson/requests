{
 "cells": [
  {
   "cell_type": "code",
   "execution_count": 1,
   "id": "f9c76491",
   "metadata": {},
   "outputs": [
    {
     "name": "stdout",
     "output_type": "stream",
     "text": [
      "{'request': {'type': 'Zipcode', 'query': '41102', 'language': 'en', 'unit': 'm'}, 'location': {'name': 'Ashland', 'country': 'USA', 'region': 'Kentucky', 'lat': '38.422', 'lon': '-82.717', 'timezone_id': 'America/New_York', 'localtime': '2025-05-14 10:02', 'localtime_epoch': 1747216920, 'utc_offset': '-4.0'}, 'current': {'observation_time': '02:02 PM', 'temperature': 19, 'weather_code': 116, 'weather_icons': ['https://cdn.worldweatheronline.com/images/wsymbols01_png_64/wsymbol_0002_sunny_intervals.png'], 'weather_descriptions': ['Partly Cloudy '], 'astro': {'sunrise': '06:22 AM', 'sunset': '08:36 PM', 'moonrise': '11:02 PM', 'moonset': '07:11 AM', 'moon_phase': 'Waning Gibbous', 'moon_illumination': 98}, 'air_quality': {'co': '342.25', 'no2': '1.48', 'o3': '102', 'so2': '0.74', 'pm2_5': '18.5', 'pm10': '18.87', 'us-epa-index': '2', 'gb-defra-index': '2'}, 'wind_speed': 9, 'wind_degree': 207, 'wind_dir': 'SSW', 'pressure': 1011, 'precip': 0, 'humidity': 78, 'cloudcover': 0, 'feelslike': 19, 'uv_index': 4, 'visibility': 16, 'is_day': 'yes'}}\n"
     ]
    }
   ],
   "source": [
    "import requests\n",
    "\n",
    "url = \"https://api.weatherstack.com/current?access_key=6ead42fd00e0a94f450829fddd613bbe\"\n",
    "\n",
    "querystring = {\"query\":\"41102\"}\n",
    "\n",
    "response = requests.get(url, params=querystring)\n",
    "\n",
    "print(response.json())\n",
    "\n",
    "            \n",
    "        \n",
    "\n"
   ]
  }
 ],
 "metadata": {
  "kernelspec": {
   "display_name": "Python 3",
   "language": "python",
   "name": "python3"
  },
  "language_info": {
   "codemirror_mode": {
    "name": "ipython",
    "version": 3
   },
   "file_extension": ".py",
   "mimetype": "text/x-python",
   "name": "python",
   "nbconvert_exporter": "python",
   "pygments_lexer": "ipython3",
   "version": "3.13.2"
  }
 },
 "nbformat": 4,
 "nbformat_minor": 5
}
